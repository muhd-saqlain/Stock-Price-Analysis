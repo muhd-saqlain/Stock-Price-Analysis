{
  "metadata": {
    "kernelspec": {
      "name": "python",
      "display_name": "Python (Pyodide)",
      "language": "python"
    },
    "language_info": {
      "codemirror_mode": {
        "name": "python",
        "version": 3
      },
      "file_extension": ".py",
      "mimetype": "text/x-python",
      "name": "python",
      "nbconvert_exporter": "python",
      "pygments_lexer": "ipython3",
      "version": "3.8"
    }
  },
  "nbformat_minor": 5,
  "nbformat": 4,
  "cells": [
    {
      "id": "37db4d97-929b-4f6c-86b2-8037e2ea5528",
      "cell_type": "code",
      "source": "# scripts/stock_price_analysis.py\nimport pandas as pd\nimport numpy as np\nimport matplotlib.pyplot as plt\nimport seaborn as sns\nimport yfinance as yf\nfrom datetime import datetime\nimport os",
      "metadata": {
        "trusted": true
      },
      "outputs": [],
      "execution_count": null
    },
    {
      "id": "f25af595-c9c4-4e23-a162-787807d312a0",
      "cell_type": "code",
      "source": "# config\nsns.set(style=\"darkgrid\")\nplt.rcParams['figure.figsize'] = (12,6)",
      "metadata": {
        "trusted": true
      },
      "outputs": [],
      "execution_count": null
    },
    {
      "id": "c5bb7a8e-d9e5-4d11-9181-60e6eb41cf5e",
      "cell_type": "code",
      "source": "tickers = [\"AAPL\", \"TSLA\", \"MSFT\"]\nstart = \"2019-01-01\"\nend = datetime.today().strftime(\"%Y-%m-%d\")",
      "metadata": {
        "trusted": true
      },
      "outputs": [],
      "execution_count": null
    },
    {
      "id": "9ab3dc29-a1e5-48ba-8373-4e9257ffcc68",
      "cell_type": "code",
      "source": "# create outputs folder if not exists\nos.makedirs(\"outputs\", exist_ok=True)",
      "metadata": {
        "trusted": true
      },
      "outputs": [],
      "execution_count": null
    },
    {
      "id": "f80fe999-819d-4800-9338-965c2f971484",
      "cell_type": "code",
      "source": "# download data\ndf = yf.download(tickers, start=start, end=end)[\"Adj Close\"]\nif isinstance(df, pd.Series):\n    df = df.to_frame()\ndf = df.dropna(how=\"all\")",
      "metadata": {
        "trusted": true
      },
      "outputs": [],
      "execution_count": null
    },
    {
      "id": "90a191e6-8630-45eb-98c1-f9078ccd02f9",
      "cell_type": "code",
      "source": "# Price trends\nax = df.plot(title=\"Adjusted Close Price\", linewidth=1.2)\nax.set_ylabel(\"Price (USD)\")\nax.set_xlabel(\"Date\")\nplt.tight_layout()\nplt.savefig(\"outputs/price_trends.png\", dpi=150)\nplt.close()",
      "metadata": {
        "trusted": true
      },
      "outputs": [],
      "execution_count": null
    },
    {
      "id": "348e9c92-fd17-458f-adfa-1bb4ef55d760",
      "cell_type": "code",
      "source": "# Returns\nreturns = df.pct_change().dropna()",
      "metadata": {
        "trusted": true
      },
      "outputs": [],
      "execution_count": null
    },
    {
      "id": "0e49b829-0051-4954-8296-d6080ec298f7",
      "cell_type": "code",
      "source": "# Distribution plots\nfor t in returns.columns:\n    plt.figure(figsize=(10,5))\n    sns.histplot(returns[t], bins=80, kde=True)\n    plt.title(f\"{t} - Daily Return Distribution\")\n    plt.xlabel(\"Daily Return\")\n    plt.ylabel(\"Frequency\")\n    plt.tight_layout()\n    plt.savefig(f\"outputs/{t}_returns_dist.png\", dpi=150)\n    plt.close()",
      "metadata": {
        "trusted": true
      },
      "outputs": [],
      "execution_count": null
    },
    {
      "id": "1c32598a-2d56-4bb0-835d-681f57ec784a",
      "cell_type": "code",
      "source": "# Rolling volatility\nrolling_std = returns.rolling(window=30).std() * np.sqrt(252)\nax = rolling_std.plot(title=\"30-day Rolling Annualized Volatility\")\nax.set_ylabel(\"Volatility\")\nplt.tight_layout()\nplt.savefig(\"outputs/rolling_volatility.png\", dpi=150)\nplt.close()",
      "metadata": {
        "trusted": true
      },
      "outputs": [],
      "execution_count": null
    },
    {
      "id": "5564e645-d755-40b9-ba66-2f4bb1df9354",
      "cell_type": "code",
      "source": "# Moving averages for AAPL\nma50 = df.rolling(window=50).mean()\nma200 = df.rolling(window=200).mean()",
      "metadata": {
        "trusted": true
      },
      "outputs": [],
      "execution_count": null
    },
    {
      "id": "4a47ffd8-f197-4aca-a7d3-7b541f88ec57",
      "cell_type": "code",
      "source": "plt.figure(figsize=(14,7))\nplt.plot(df.index, df[\"AAPL\"], label=\"AAPL Price\")\nplt.plot(ma50.index, ma50[\"AAPL\"], label=\"50-day MA\")\nplt.plot(ma200.index, ma200[\"AAPL\"], label=\"200-day MA\")\nplt.title(\"AAPL Price & Moving Averages\")\nplt.legend()\nplt.tight_layout()\nplt.savefig(\"outputs/AAPL_moving_averages.png\", dpi=150)\nplt.close()",
      "metadata": {
        "trusted": true
      },
      "outputs": [],
      "execution_count": null
    },
    {
      "id": "1184843a-0552-4ef5-8320-b2177a009cd9",
      "cell_type": "code",
      "source": "# Correlation heatmap\ncorr = returns.corr()\nplt.figure(figsize=(6,5))\nsns.heatmap(corr, annot=True, cmap=\"coolwarm\")\nplt.title(\"Correlation of Daily Returns\")\nplt.tight_layout()\nplt.savefig(\"outputs/returns_corr_heatmap.png\", dpi=150)\nplt.close()",
      "metadata": {
        "trusted": true
      },
      "outputs": [],
      "execution_count": null
    },
    {
      "id": "ddb5f56e-4161-44fc-acdf-1e4634299a8f",
      "cell_type": "code",
      "source": "# Print basic stats\nprint(\"Mean daily returns:\\n\", returns.mean())\nprint(\"\\nAnnualized mean returns:\\n\", returns.mean()*252)\nprint(\"\\nAnnualized volatility:\\n\", returns.std()*np.sqrt(252))",
      "metadata": {
        "trusted": true
      },
      "outputs": [],
      "execution_count": null
    }
  ]
}